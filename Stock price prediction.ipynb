{
 "cells": [
  {
   "cell_type": "code",
   "execution_count": null,
   "id": "f19603cd-c2d3-4bb9-a935-6fc0bc068238",
   "metadata": {},
   "outputs": [],
   "source": [
    "import numpy as np \n",
    "import pandas as pd \n",
    "import matplotlib.pyplot as plt \n",
    "import seaborn as sns"
   ]
  },
  {
   "cell_type": "code",
   "execution_count": null,
   "id": "d3796bc2-5aaa-4b3a-832e-83eae4f22884",
   "metadata": {},
   "outputs": [],
   "source": [
    "#import pandas as pd\n",
    "\n",
    "# Now you can use Pandas functions\n",
    "df = pd.read_csv('ml/Datasets/shares data set.csv')\n",
    "df.head(10)\n"
   ]
  },
  {
   "cell_type": "code",
   "execution_count": null,
   "id": "577bf967-e899-478a-9ff4-9473df2ea63b",
   "metadata": {},
   "outputs": [],
   "source": [
    "df.shape"
   ]
  },
  {
   "cell_type": "code",
   "execution_count": null,
   "id": "121f9370-b332-47f0-900b-691cb6f22bf5",
   "metadata": {},
   "outputs": [],
   "source": [
    "df.describe()"
   ]
  },
  {
   "cell_type": "code",
   "execution_count": null,
   "id": "0bfa5a2b-f890-4969-8182-1ecb5b6b0fdb",
   "metadata": {},
   "outputs": [],
   "source": [
    "df.info()"
   ]
  },
  {
   "cell_type": "code",
   "execution_count": null,
   "id": "67fbf5e3-a7d6-41e4-aca4-9db1a45d0790",
   "metadata": {},
   "outputs": [],
   "source": [
    "plt.figure(figsize=(5,5)) \n",
    "plt.plot(df['Close']) \n",
    "plt.title('Close price', fontsize=15) \n",
    "plt.ylabel('Price in dollars') \n",
    "plt.show()"
   ]
  },
  {
   "cell_type": "code",
   "execution_count": null,
   "id": "afd5d3cd-0dcf-4bb2-8bac-c3e55946d03c",
   "metadata": {},
   "outputs": [],
   "source": [
    "plt.figure(figsize=(5,5)) \n",
    "plt.plot(df['Volume']) \n",
    "plt.title('Volume', fontsize=15) \n",
    "plt.ylabel('Total') \n",
    "plt.show()"
   ]
  },
  {
   "cell_type": "code",
   "execution_count": null,
   "id": "34f68948-4e02-4b26-a6e3-d9ac36226d0f",
   "metadata": {},
   "outputs": [],
   "source": [
    "df.head(20)"
   ]
  },
  {
   "cell_type": "code",
   "execution_count": null,
   "id": "93cd51cd-65d7-476c-874b-7e26530ba9b3",
   "metadata": {},
   "outputs": [],
   "source": [
    "df.isnull().sum()"
   ]
  },
  {
   "cell_type": "code",
   "execution_count": null,
   "id": "2b94167d-a636-449d-bcbc-17eee2c63993",
   "metadata": {},
   "outputs": [],
   "source": [
    "pip install -- update seaborn \n"
   ]
  },
  {
   "cell_type": "code",
   "execution_count": null,
   "id": "e20ad75a-6d52-46a4-acb3-35c87d3cf8ec",
   "metadata": {},
   "outputs": [],
   "source": [
    "features = ['Open', 'High', 'Low', 'Close', 'Volume'] \n",
    "\n",
    "plt.figure(figsize=(20,10)) \n",
    "\n",
    "for i, col in enumerate(features): \n",
    " plt.subplot(2,3,i+1) \n",
    " sns.distplot(df[col]) \n",
    "plt.show()\n"
   ]
  },
  {
   "cell_type": "code",
   "execution_count": null,
   "id": "ceccb04c-b612-4b6f-b03a-d2ea4235b20b",
   "metadata": {},
   "outputs": [],
   "source": [
    "data_grouped = df.groupby('NAME').mean() \n",
    "plt.figure(figsize=(20,10)) \n",
    "\n",
    "for i, col in enumerate(['Open', 'High', 'Low', 'Close']): \n",
    " plt.subplot(2,2,i+1) \n",
    " data_grouped[col].plot.bar() \n",
    "plt.show()\n"
   ]
  },
  {
   "cell_type": "code",
   "execution_count": null,
   "id": "8498c72f-06f2-4418-9463-0bb132adea91",
   "metadata": {},
   "outputs": [],
   "source": [
    "plt.figure(figsize=(10, 10)) \n",
    "\n",
    "# As our concern is with the highly \n",
    "# correlated features only so, we will visualize \n",
    "# our heatmap as per that criteria only. \n",
    "# Selecting numeric columns only\n",
    "numeric_df = df.select_dtypes(include='number')\n",
    "\n",
    "# Create a figure with a specific size\n",
    "plt.figure(figsize=(5, 5))\n",
    "\n",
    "# Plotting heatmap for correlations greater than 0.9\n",
    "sns.heatmap(numeric_df.corr() > 0.9, annot=True, cbar=False)\n",
    "\n",
    "plt.title('Highly Correlated Features (Correlation > 0.9)')\n",
    "plt.show()"
   ]
  },
  {
   "cell_type": "code",
   "execution_count": null,
   "id": "a9c0ab4e-054f-479b-af1e-d400b0c0d5d5",
   "metadata": {},
   "outputs": [],
   "source": [
    "from sklearn.model_selection import train_test_split \n",
    "from sklearn.preprocessing import StandardScaler \n",
    "from sklearn.linear_model import LogisticRegression \n",
    "from sklearn.svm import SVC \n",
    "from xgboost import XGBClassifier \n",
    "from sklearn import metrics "
   ]
  },
  {
   "cell_type": "code",
   "execution_count": null,
   "id": "df395838-381a-4d00-89cf-040afeda36f0",
   "metadata": {},
   "outputs": [],
   "source": []
  },
  {
   "cell_type": "code",
   "execution_count": null,
   "id": "b7969a05-7c4c-408b-b99b-05297ad8d786",
   "metadata": {},
   "outputs": [],
   "source": []
  },
  {
   "cell_type": "code",
   "execution_count": null,
   "id": "cb0f4bb5-05f4-4179-aa08-967d4f6fc552",
   "metadata": {},
   "outputs": [],
   "source": []
  }
 ],
 "metadata": {
  "kernelspec": {
   "display_name": "Python 3 (ipykernel)",
   "language": "python",
   "name": "python3"
  },
  "language_info": {
   "codemirror_mode": {
    "name": "ipython",
    "version": 3
   },
   "file_extension": ".py",
   "mimetype": "text/x-python",
   "name": "python",
   "nbconvert_exporter": "python",
   "pygments_lexer": "ipython3",
   "version": "3.11.7"
  }
 },
 "nbformat": 4,
 "nbformat_minor": 5
}
